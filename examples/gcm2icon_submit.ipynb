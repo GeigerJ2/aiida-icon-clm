{
 "cells": [
  {
   "cell_type": "code",
   "execution_count": 1,
   "id": "612de298-d104-41fe-a19b-03453d339edf",
   "metadata": {
    "editable": true,
    "slideshow": {
     "slide_type": ""
    },
    "tags": []
   },
   "outputs": [
    {
     "data": {
      "application/json": {
       "current_state": "Loaded AiiDA DB environment - profile name: aiida-icon-clm."
      },
      "text/html": [
       "<p>Loaded AiiDA DB environment - profile name: aiida-icon-clm.</p>"
      ],
      "text/latex": [
       "Loaded AiiDA DB environment - profile name: aiida-icon-clm.\n"
      ],
      "text/plain": [
       "Loaded AiiDA DB environment - profile name: aiida-icon-clm.\n"
      ]
     },
     "execution_count": 1,
     "metadata": {},
     "output_type": "execute_result"
    }
   ],
   "source": [
    "%load_ext aiida\n",
    "%aiida"
   ]
  },
  {
   "cell_type": "code",
   "execution_count": 2,
   "id": "f12658bb-8551-4f79-9a95-310d372abab9",
   "metadata": {},
   "outputs": [
    {
     "data": {
      "text/plain": [
       "Profile<uuid='6da4abb86796421db4ba41d409841450' name='aiida-icon-clm'>"
      ]
     },
     "execution_count": 2,
     "metadata": {},
     "output_type": "execute_result"
    }
   ],
   "source": [
    "import io\n",
    "import pendulum\n",
    "import pathlib\n",
    "import f90nml\n",
    "import tempfile\n",
    "from aiida import orm, engine, common\n",
    "from aiida_c2sm import spice\n",
    "from aiida import load_profile\n",
    "from aiida.orm import QueryBuilder, RemoteData\n",
    "\n",
    "load_profile(\"aiida-icon-clm\")"
   ]
  },
  {
   "cell_type": "code",
   "execution_count": 3,
   "id": "3791eeda-53ce-46e9-bb29-28f80049cfea",
   "metadata": {},
   "outputs": [],
   "source": [
    "# Why is this again defined here? Did I copy that here... -> The other file is python submission script\n",
    "def get_ecraddir() -> orm.RemoteData:\n",
    "    try:\n",
    "        params = orm.load_node(label=\"spice-ecraddir\")\n",
    "        return params\n",
    "    except common.NotExistent:\n",
    "        return orm.RemoteData(\n",
    "            label=\"spice-ecraddir\",\n",
    "            computer=orm.load_computer(\"daint-gpu\"),\n",
    "            # remote_path=\"estore/c2sm/c2sme/ICON-CLM/spice-sandbox/spice/icon-nwp-gpu/externals/ecrad/data\",\n",
    "            # -> Path was wrong\n",
    "            remote_path=\"/store/c2sm/c2sme/ICON-CLM/spice-sandbox/src/icon-nwp-gpu/externals/ecrad/data\",\n",
    "        ).store()"
   ]
  },
  {
   "cell_type": "code",
   "execution_count": 4,
   "id": "e9ca01ac-5ccf-4d5b-b4b6-3fbf44dde07e",
   "metadata": {},
   "outputs": [
    {
     "name": "stdout",
     "output_type": "stream",
     "text": [
      "{'metadata': {}, 'prep': {}, 'conv': {}, 'icon': {}, 'monitors': {}}\n"
     ]
    }
   ],
   "source": [
    "builder = spice.gcm2icon.workflow.Gcm2Icon.get_builder()\n",
    "print(builder)"
   ]
  },
  {
   "cell_type": "code",
   "execution_count": 6,
   "id": "ccb21a91-6d38-427e-ad3d-8d3e909bfc14",
   "metadata": {},
   "outputs": [],
   "source": [
    "src_dir = pathlib.Path(\"/store/c2sm/c2sme/ICON-CLM/spice-sandbox/\")\n",
    "\n",
    "builder.boundary_data = spice.data.get_inidata()\n",
    "builder.ecraddir = get_ecraddir()\n",
    "builder.gcm_data = spice.data.get_gcm_data()\n",
    "builder.ini_basedir = spice.data.get_inibasedir()\n",
    "builder.inidata = spice.data.get_inidata()\n",
    "\n",
    "builder.computer_options = {\n",
    "    \"account\": \"mrcloud\",\n",
    "    \"queue_name\": \"normal\",\n",
    "    \"custom_scheduler_commands\": \"#SBATCH -C gpu\",\n",
    "    \"max_memory_kb\": int(64e6),\n",
    "    \"resources\": {\"num_machines\": 1, \"num_mpiprocs_per_machine\": 1},\n",
    "}\n",
    "\n",
    "# builder.prep.code = orm.load_code(\"spice-conv2icon-prep\")  # -> Using script from SPICE fails...\n",
    "builder.prep.code = orm.load_code(\n",
    "    \"aiida-conv2icon-prep\"\n",
    ")  # -> Simpler script from `aiida-icon-clm`\n",
    "builder.prep.computer_options = {\n",
    "    \"max_wallclock_seconds\": 1800,\n",
    "}\n",
    "\n",
    "# builder.conv.code = orm.load_code(\"spice-conv2icon-conv\") # -> These are the complex scripts in Michael's `/store`\n",
    "# builder.conv.code = orm.load_code(\"spice-conv2icon-conv\") # -> Using script from SPICE fails. Makes sense, as this\n",
    "# should be converted to the Conv calcjobs\n",
    "builder.conv.code = orm.load_code(\n",
    "    \"aiida-conv2icon-conv\"\n",
    ")  # -> Simpler script from `aiida-icon-clm`\n",
    "builder.conv.computer_options = {\n",
    "    \"max_wallclock_seconds\": 1800,\n",
    "}\n",
    "\n",
    "builder.icon.code = orm.load_code(\"icon-gpu\")\n",
    "builder.icon.computer_options = {\n",
    "    \"max_wallclock_seconds\": 3600,\n",
    "    \"resources\": {\n",
    "        \"num_machines\": 10,\n",
    "        \"num_mpiprocs_per_machine\": 1,\n",
    "        \"num_cores_per_mpiproc\": 2,\n",
    "    },\n",
    "    \"withmpi\": True,\n",
    "    \"mpirun_extra_params\": [\n",
    "        \"--ntasks-per-node\",\n",
    "        \"1\",\n",
    "        \"--hint=nomultithread\",\n",
    "        \"--cpus-per-task\",\n",
    "        \"1\",\n",
    "    ],\n",
    "}\n",
    "\n",
    "builder.parameters = orm.JsonableData(\n",
    "    spice.params.SpiceParams(\n",
    "        start_date=pendulum.datetime(year=1979, month=1, day=1, tz=\"utc\"),\n",
    "        stop_date=pendulum.datetime(year=1979, month=3, day=1, tz=\"utc\"),\n",
    "        utils_bindir=src_dir / \"src\" / \"utils\" / \"bin\",\n",
    "        cfu_bindir=src_dir / \"src\" / \"cfu\" / \"bin\",\n",
    "        # Check if the relative paths here are fine. Full path for first file is:\n",
    "        # /store/c2sm/c2sme/ICON-CLM/spice-sandbox/data/rcm/europe044/europe044_DOM01.nc\n",
    "        # It should be fine, as:\n",
    "        # _INIBASEDIR_PATH = \"/store/c2sm/c2sme/ICON-CLM/spice-sandbox/data/rcm\"\n",
    "        lam_grid_relpath=\"europe044/europe044_DOM01.nc\",\n",
    "        parent_grid_relpath=\"europe044/europe044_DOM01.parent.nc\",\n",
    "        extpar_relpath=\"europe044/external_parameter_icon_europe044_DOM01_tiles.nc\",\n",
    "        ghg_file_relpath=\"greenhouse_gases/bc_greenhouse_rcp45_1765-2500.nc\",\n",
    "    )\n",
    ")"
   ]
  },
  {
   "cell_type": "code",
   "execution_count": 7,
   "id": "4a596fda-79bc-440b-827e-905ae923282a",
   "metadata": {},
   "outputs": [
    {
     "name": "stderr",
     "output_type": "stream",
     "text": [
      "04/30/2024 02:12:57 PM <3889418> aiida.orm.nodes.process.workflow.workchain.WorkChainNode: [REPORT] [16|Gcm2Icon|check_inputs]: Checking inputs.\n",
      "04/30/2024 02:12:57 PM <3889418> aiida.orm.nodes.process.workflow.workchain.WorkChainNode: [REPORT] [16|Gcm2Icon|init_iterations]: Initializing iteration variables.\n",
      "04/30/2024 02:12:57 PM <3889418> aiida.orm.nodes.process.workflow.workchain.WorkChainNode: [REPORT] [16|Gcm2Icon|prep]: Starting Preparation run for date 1979-01-01 00:00:00.\n",
      "04/30/2024 02:20:51 PM <3889418> aiida.orm.nodes.process.workflow.workchain.WorkChainNode: [REPORT] [16|Gcm2Icon|conv]: Starting Conv2Icon run for date 1979-01-01 00:00:00.\n",
      "04/30/2024 02:26:51 PM <3889418> aiida.orm.nodes.process.workflow.workchain.WorkChainNode: [REPORT] [16|Gcm2Icon|wait_for_previous_icon]: Making the next step wait for the previous Icon run.\n",
      "04/30/2024 02:26:51 PM <3889418> aiida.orm.nodes.process.workflow.workchain.WorkChainNode: [REPORT] [16|Gcm2Icon|icon]: Starting Icon run for date 1979-01-01 00:00:00.\n",
      "04/30/2024 02:26:51 PM <3889418> aiida.orm.nodes.process.workflow.workchain.WorkChainNode: [REPORT] [16|Gcm2Icon|incr_iteration]: Updating iteration variables.\n",
      "04/30/2024 02:26:51 PM <3889418> aiida.orm.nodes.process.workflow.workchain.WorkChainNode: [REPORT] [16|Gcm2Icon|incr_iteration]: Current date: 1979-01-01 00:00:00 -> 1979-02-01 00:00:00\n",
      "04/30/2024 02:26:52 PM <3889418> aiida.orm.nodes.process.workflow.workchain.WorkChainNode: [REPORT] [16|Gcm2Icon|prep]: Starting Preparation run for date 1979-02-01 00:00:00.\n",
      "04/30/2024 02:26:52 PM <3889418> aiida.orm.nodes.process.workflow.workchain.WorkChainNode: [REPORT] [34|IconWorkChain|on_except]: Traceback (most recent call last):\n",
      "  File \"/home/geiger_j/.aiida_venvs/aiida-icon-clm/lib/python3.10/site-packages/plumpy/process_states.py\", line 228, in execute\n",
      "    result = self.run_fn(*self.args, **self.kwargs)\n",
      "  File \"/home/geiger_j/.aiida_venvs/aiida-icon-clm/lib/python3.10/site-packages/aiida/engine/processes/workchains/workchain.py\", line 296, in run\n",
      "    return self._do_step()\n",
      "  File \"/home/geiger_j/.aiida_venvs/aiida-icon-clm/lib/python3.10/site-packages/aiida/engine/processes/workchains/workchain.py\", line 313, in _do_step\n",
      "    finished, stepper_result = self._stepper.step()\n",
      "  File \"/home/geiger_j/.aiida_venvs/aiida-icon-clm/lib/python3.10/site-packages/plumpy/workchains.py\", line 295, in step\n",
      "    finished, result = self._child_stepper.step()\n",
      "  File \"/home/geiger_j/.aiida_venvs/aiida-icon-clm/lib/python3.10/site-packages/plumpy/workchains.py\", line 246, in step\n",
      "    return True, self._fn(self._workchain)\n",
      "  File \"/home/geiger_j/aiida_projects/aiida-icon-clm/git-repos/aiida-icon-clm.worktrees/exploration/src/aiida_c2sm/spice/icon_wc.py\", line 72, in prepare_namelists\n",
      "    make_master_namelists(\n",
      "  File \"/home/geiger_j/aiida_projects/aiida-icon-clm/git-repos/aiida-icon-clm.worktrees/exploration/src/aiida_c2sm/spice/icon_wc.py\", line 163, in make_master_namelists\n",
      "    pendulum.period(to_utc(params.date), to_utc(next_date)).in_hours() + 1\n",
      "AttributeError: module 'pendulum' has no attribute 'period'\n",
      "\n",
      "04/30/2024 02:36:40 PM <3889418> aiida.orm.nodes.process.workflow.workchain.WorkChainNode: [REPORT] [16|Gcm2Icon|conv]: Starting Conv2Icon run for date 1979-02-01 00:00:00.\n",
      "04/30/2024 02:41:23 PM <3889418> aiida.orm.nodes.process.workflow.workchain.WorkChainNode: [REPORT] [16|Gcm2Icon|wait_for_previous_icon]: Making the next step wait for the previous Icon run.\n",
      "04/30/2024 02:41:24 PM <3889418> aiida.orm.nodes.process.workflow.workchain.WorkChainNode: [REPORT] [16|Gcm2Icon|icon]: Starting Icon run for date 1979-02-01 00:00:00.\n",
      "04/30/2024 02:41:24 PM <3889418> aiida.orm.nodes.process.workflow.workchain.WorkChainNode: [REPORT] [16|Gcm2Icon|on_except]: Traceback (most recent call last):\n",
      "  File \"/home/geiger_j/.aiida_venvs/aiida-icon-clm/lib/python3.10/site-packages/aiida/orm/utils/managers.py\", line 87, in _get_node_by_link_label\n",
      "    node = attribute_dict[label]\n",
      "KeyError: 'restart_file_dir'\n",
      "\n",
      "The above exception was the direct cause of the following exception:\n",
      "\n",
      "Traceback (most recent call last):\n",
      "  File \"/home/geiger_j/.aiida_venvs/aiida-icon-clm/lib/python3.10/site-packages/aiida/orm/utils/managers.py\", line 132, in __getattr__\n",
      "    return self._get_node_by_link_label(label=name)\n",
      "  File \"/home/geiger_j/.aiida_venvs/aiida-icon-clm/lib/python3.10/site-packages/aiida/orm/utils/managers.py\", line 115, in _get_node_by_link_label\n",
      "    raise NotExistent from exception\n",
      "aiida.common.exceptions.NotExistent\n",
      "\n",
      "The above exception was the direct cause of the following exception:\n",
      "\n",
      "Traceback (most recent call last):\n",
      "  File \"/home/geiger_j/.aiida_venvs/aiida-icon-clm/lib/python3.10/site-packages/plumpy/process_states.py\", line 228, in execute\n",
      "    result = self.run_fn(*self.args, **self.kwargs)\n",
      "  File \"/home/geiger_j/.aiida_venvs/aiida-icon-clm/lib/python3.10/site-packages/aiida/engine/processes/workchains/workchain.py\", line 313, in _do_step\n",
      "    finished, stepper_result = self._stepper.step()\n",
      "  File \"/home/geiger_j/.aiida_venvs/aiida-icon-clm/lib/python3.10/site-packages/plumpy/workchains.py\", line 295, in step\n",
      "    finished, result = self._child_stepper.step()\n",
      "  File \"/home/geiger_j/.aiida_venvs/aiida-icon-clm/lib/python3.10/site-packages/plumpy/workchains.py\", line 538, in step\n",
      "    finished, result = self._child_stepper.step()\n",
      "  File \"/home/geiger_j/.aiida_venvs/aiida-icon-clm/lib/python3.10/site-packages/plumpy/workchains.py\", line 295, in step\n",
      "    finished, result = self._child_stepper.step()\n",
      "  File \"/home/geiger_j/.aiida_venvs/aiida-icon-clm/lib/python3.10/site-packages/plumpy/workchains.py\", line 246, in step\n",
      "    return True, self._fn(self._workchain)\n",
      "  File \"/home/geiger_j/aiida_projects/aiida-icon-clm/git-repos/aiida-icon-clm.worktrees/exploration/src/aiida_c2sm/spice/gcm2icon/workflow.py\", line 233, in icon\n",
      "    builder.restart_file_dir = prev_icon.outputs.restart_file_dir\n",
      "  File \"/home/geiger_j/.aiida_venvs/aiida-icon-clm/lib/python3.10/site-packages/aiida/orm/utils/managers.py\", line 138, in __getattr__\n",
      "    raise NotExistentAttributeError(\n",
      "aiida.common.exceptions.NotExistentAttributeError: Node<34> does not have an output with link label 'restart_file_dir'\n",
      "\n"
     ]
    },
    {
     "ename": "NotExistentAttributeError",
     "evalue": "Node<34> does not have an output with link label 'restart_file_dir'",
     "output_type": "error",
     "traceback": [
      "\u001b[0;31m---------------------------------------------------------------------------\u001b[0m",
      "\u001b[0;31mKeyError\u001b[0m                                  Traceback (most recent call last)",
      "File \u001b[0;32m~/.aiida_venvs/aiida-icon-clm/lib/python3.10/site-packages/aiida/orm/utils/managers.py:87\u001b[0m, in \u001b[0;36mNodeLinksManager._get_node_by_link_label\u001b[0;34m(self, label)\u001b[0m\n\u001b[1;32m     86\u001b[0m \u001b[38;5;28;01mtry\u001b[39;00m:\n\u001b[0;32m---> 87\u001b[0m     node \u001b[38;5;241m=\u001b[39m \u001b[43mattribute_dict\u001b[49m\u001b[43m[\u001b[49m\u001b[43mlabel\u001b[49m\u001b[43m]\u001b[49m\n\u001b[1;32m     88\u001b[0m \u001b[38;5;28;01mexcept\u001b[39;00m \u001b[38;5;167;01mKeyError\u001b[39;00m \u001b[38;5;28;01mas\u001b[39;00m exception:\n\u001b[1;32m     89\u001b[0m     \u001b[38;5;66;03m# Check whether the label contains a double underscore, in which case we want to warn the user that this is\u001b[39;00m\n\u001b[1;32m     90\u001b[0m     \u001b[38;5;66;03m# deprecated. However, we need to exclude labels that corresponds to dunder methods, i.e., those that start\u001b[39;00m\n\u001b[1;32m     91\u001b[0m     \u001b[38;5;66;03m# and end with a double underscore.\u001b[39;00m\n",
      "\u001b[0;31mKeyError\u001b[0m: 'restart_file_dir'",
      "\nThe above exception was the direct cause of the following exception:\n",
      "\u001b[0;31mNotExistent\u001b[0m                               Traceback (most recent call last)",
      "File \u001b[0;32m~/.aiida_venvs/aiida-icon-clm/lib/python3.10/site-packages/aiida/orm/utils/managers.py:132\u001b[0m, in \u001b[0;36mNodeLinksManager.__getattr__\u001b[0;34m(self, name)\u001b[0m\n\u001b[1;32m    131\u001b[0m \u001b[38;5;28;01mtry\u001b[39;00m:\n\u001b[0;32m--> 132\u001b[0m     \u001b[38;5;28;01mreturn\u001b[39;00m \u001b[38;5;28;43mself\u001b[39;49m\u001b[38;5;241;43m.\u001b[39;49m\u001b[43m_get_node_by_link_label\u001b[49m\u001b[43m(\u001b[49m\u001b[43mlabel\u001b[49m\u001b[38;5;241;43m=\u001b[39;49m\u001b[43mname\u001b[49m\u001b[43m)\u001b[49m\n\u001b[1;32m    133\u001b[0m \u001b[38;5;28;01mexcept\u001b[39;00m NotExistent \u001b[38;5;28;01mas\u001b[39;00m exception:\n\u001b[1;32m    134\u001b[0m     \u001b[38;5;66;03m# Note: in order for TAB-completion to work, we need to raise an exception that also inherits from\u001b[39;00m\n\u001b[1;32m    135\u001b[0m     \u001b[38;5;66;03m# `AttributeError`, so that `getattr(node.inputs, 'some_label', some_default)` returns `some_default`.\u001b[39;00m\n\u001b[1;32m    136\u001b[0m     \u001b[38;5;66;03m# Otherwise, the exception is not caught by `getattr` and is propagated, instead of returning the default.\u001b[39;00m\n",
      "File \u001b[0;32m~/.aiida_venvs/aiida-icon-clm/lib/python3.10/site-packages/aiida/orm/utils/managers.py:115\u001b[0m, in \u001b[0;36mNodeLinksManager._get_node_by_link_label\u001b[0;34m(self, label)\u001b[0m\n\u001b[1;32m    114\u001b[0m             \u001b[38;5;28;01mraise\u001b[39;00m NotExistent \u001b[38;5;28;01mfrom\u001b[39;00m \u001b[38;5;21;01mexc\u001b[39;00m\n\u001b[0;32m--> 115\u001b[0m     \u001b[38;5;28;01mraise\u001b[39;00m NotExistent \u001b[38;5;28;01mfrom\u001b[39;00m \u001b[38;5;21;01mexception\u001b[39;00m\n\u001b[1;32m    117\u001b[0m \u001b[38;5;28;01mreturn\u001b[39;00m node\n",
      "\u001b[0;31mNotExistent\u001b[0m: ",
      "\nThe above exception was the direct cause of the following exception:\n",
      "\u001b[0;31mNotExistentAttributeError\u001b[0m                 Traceback (most recent call last)",
      "Cell \u001b[0;32mIn[7], line 1\u001b[0m\n\u001b[0;32m----> 1\u001b[0m result \u001b[38;5;241m=\u001b[39m \u001b[43mengine\u001b[49m\u001b[38;5;241;43m.\u001b[39;49m\u001b[43mrun\u001b[49m\u001b[43m(\u001b[49m\u001b[43mbuilder\u001b[49m\u001b[43m)\u001b[49m\n",
      "File \u001b[0;32m~/.aiida_venvs/aiida-icon-clm/lib/python3.10/site-packages/aiida/engine/launch.py:47\u001b[0m, in \u001b[0;36mrun\u001b[0;34m(process, inputs, **kwargs)\u001b[0m\n\u001b[1;32m     44\u001b[0m \u001b[38;5;28;01melse\u001b[39;00m:\n\u001b[1;32m     45\u001b[0m     runner \u001b[38;5;241m=\u001b[39m manager\u001b[38;5;241m.\u001b[39mget_manager()\u001b[38;5;241m.\u001b[39mget_runner()\n\u001b[0;32m---> 47\u001b[0m \u001b[38;5;28;01mreturn\u001b[39;00m \u001b[43mrunner\u001b[49m\u001b[38;5;241;43m.\u001b[39;49m\u001b[43mrun\u001b[49m\u001b[43m(\u001b[49m\u001b[43mprocess\u001b[49m\u001b[43m,\u001b[49m\u001b[43m \u001b[49m\u001b[43minputs\u001b[49m\u001b[43m,\u001b[49m\u001b[43m \u001b[49m\u001b[38;5;241;43m*\u001b[39;49m\u001b[38;5;241;43m*\u001b[39;49m\u001b[43mkwargs\u001b[49m\u001b[43m)\u001b[49m\n",
      "File \u001b[0;32m~/.aiida_venvs/aiida-icon-clm/lib/python3.10/site-packages/aiida/engine/runners.py:274\u001b[0m, in \u001b[0;36mRunner.run\u001b[0;34m(self, process, inputs, **kwargs)\u001b[0m\n\u001b[1;32m    265\u001b[0m \u001b[38;5;28;01mdef\u001b[39;00m \u001b[38;5;21mrun\u001b[39m(\u001b[38;5;28mself\u001b[39m, process: TYPE_RUN_PROCESS, inputs: \u001b[38;5;28mdict\u001b[39m[\u001b[38;5;28mstr\u001b[39m, Any] \u001b[38;5;241m|\u001b[39m \u001b[38;5;28;01mNone\u001b[39;00m \u001b[38;5;241m=\u001b[39m \u001b[38;5;28;01mNone\u001b[39;00m, \u001b[38;5;241m*\u001b[39m\u001b[38;5;241m*\u001b[39mkwargs: Any) \u001b[38;5;241m-\u001b[39m\u001b[38;5;241m>\u001b[39m Dict[\u001b[38;5;28mstr\u001b[39m, Any]:\n\u001b[1;32m    266\u001b[0m \u001b[38;5;250m    \u001b[39m\u001b[38;5;124;03m\"\"\"Run the process with the supplied inputs in this runner that will block until the process is completed.\u001b[39;00m\n\u001b[1;32m    267\u001b[0m \n\u001b[1;32m    268\u001b[0m \u001b[38;5;124;03m    The return value will be the results of the completed process\u001b[39;00m\n\u001b[0;32m   (...)\u001b[0m\n\u001b[1;32m    272\u001b[0m \u001b[38;5;124;03m    :return: the outputs of the process\u001b[39;00m\n\u001b[1;32m    273\u001b[0m \u001b[38;5;124;03m    \"\"\"\u001b[39;00m\n\u001b[0;32m--> 274\u001b[0m     result, _ \u001b[38;5;241m=\u001b[39m \u001b[38;5;28;43mself\u001b[39;49m\u001b[38;5;241;43m.\u001b[39;49m\u001b[43m_run\u001b[49m\u001b[43m(\u001b[49m\u001b[43mprocess\u001b[49m\u001b[43m,\u001b[49m\u001b[43m \u001b[49m\u001b[43minputs\u001b[49m\u001b[43m,\u001b[49m\u001b[43m \u001b[49m\u001b[38;5;241;43m*\u001b[39;49m\u001b[38;5;241;43m*\u001b[39;49m\u001b[43mkwargs\u001b[49m\u001b[43m)\u001b[49m\n\u001b[1;32m    275\u001b[0m     \u001b[38;5;28;01mreturn\u001b[39;00m result\n",
      "File \u001b[0;32m~/.aiida_venvs/aiida-icon-clm/lib/python3.10/site-packages/aiida/engine/runners.py:258\u001b[0m, in \u001b[0;36mRunner._run\u001b[0;34m(self, process, inputs, **kwargs)\u001b[0m\n\u001b[1;32m    256\u001b[0m     signal\u001b[38;5;241m.\u001b[39msignal(signal\u001b[38;5;241m.\u001b[39mSIGINT, kill_process)\n\u001b[1;32m    257\u001b[0m     signal\u001b[38;5;241m.\u001b[39msignal(signal\u001b[38;5;241m.\u001b[39mSIGTERM, kill_process)\n\u001b[0;32m--> 258\u001b[0m     \u001b[43mprocess_inited\u001b[49m\u001b[38;5;241;43m.\u001b[39;49m\u001b[43mexecute\u001b[49m\u001b[43m(\u001b[49m\u001b[43m)\u001b[49m\n\u001b[1;32m    259\u001b[0m \u001b[38;5;28;01mfinally\u001b[39;00m:\n\u001b[1;32m    260\u001b[0m     signal\u001b[38;5;241m.\u001b[39msignal(signal\u001b[38;5;241m.\u001b[39mSIGINT, original_handler_int)\n",
      "File \u001b[0;32m~/.aiida_venvs/aiida-icon-clm/lib/python3.10/site-packages/plumpy/processes.py:90\u001b[0m, in \u001b[0;36mensure_not_closed.<locals>.func_wrapper\u001b[0;34m(self, *args, **kwargs)\u001b[0m\n\u001b[1;32m     88\u001b[0m \u001b[38;5;28;01mif\u001b[39;00m \u001b[38;5;28mself\u001b[39m\u001b[38;5;241m.\u001b[39m_closed:\n\u001b[1;32m     89\u001b[0m     \u001b[38;5;28;01mraise\u001b[39;00m exceptions\u001b[38;5;241m.\u001b[39mClosedError(\u001b[38;5;124m'\u001b[39m\u001b[38;5;124mProcess is closed\u001b[39m\u001b[38;5;124m'\u001b[39m)\n\u001b[0;32m---> 90\u001b[0m \u001b[38;5;28;01mreturn\u001b[39;00m \u001b[43mfunc\u001b[49m\u001b[43m(\u001b[49m\u001b[38;5;28;43mself\u001b[39;49m\u001b[43m,\u001b[49m\u001b[43m \u001b[49m\u001b[38;5;241;43m*\u001b[39;49m\u001b[43margs\u001b[49m\u001b[43m,\u001b[49m\u001b[43m \u001b[49m\u001b[38;5;241;43m*\u001b[39;49m\u001b[38;5;241;43m*\u001b[39;49m\u001b[43mkwargs\u001b[49m\u001b[43m)\u001b[49m\n",
      "File \u001b[0;32m~/.aiida_venvs/aiida-icon-clm/lib/python3.10/site-packages/plumpy/processes.py:1203\u001b[0m, in \u001b[0;36mProcess.execute\u001b[0;34m(self)\u001b[0m\n\u001b[1;32m   1200\u001b[0m \u001b[38;5;28;01mif\u001b[39;00m \u001b[38;5;129;01mnot\u001b[39;00m \u001b[38;5;28mself\u001b[39m\u001b[38;5;241m.\u001b[39mhas_terminated():\n\u001b[1;32m   1201\u001b[0m     \u001b[38;5;28mself\u001b[39m\u001b[38;5;241m.\u001b[39mloop\u001b[38;5;241m.\u001b[39mrun_until_complete(\u001b[38;5;28mself\u001b[39m\u001b[38;5;241m.\u001b[39mstep_until_terminated())\n\u001b[0;32m-> 1203\u001b[0m \u001b[38;5;28;01mreturn\u001b[39;00m \u001b[38;5;28;43mself\u001b[39;49m\u001b[38;5;241;43m.\u001b[39;49m\u001b[43mfuture\u001b[49m\u001b[43m(\u001b[49m\u001b[43m)\u001b[49m\u001b[38;5;241;43m.\u001b[39;49m\u001b[43mresult\u001b[49m\u001b[43m(\u001b[49m\u001b[43m)\u001b[49m\n",
      "File \u001b[0;32m~/.aiida_venvs/aiida-icon-clm/lib/python3.10/site-packages/plumpy/process_states.py:228\u001b[0m, in \u001b[0;36mRunning.execute\u001b[0;34m(self)\u001b[0m\n\u001b[1;32m    226\u001b[0m \u001b[38;5;28;01mtry\u001b[39;00m:\n\u001b[1;32m    227\u001b[0m     \u001b[38;5;28mself\u001b[39m\u001b[38;5;241m.\u001b[39m_running \u001b[38;5;241m=\u001b[39m \u001b[38;5;28;01mTrue\u001b[39;00m\n\u001b[0;32m--> 228\u001b[0m     result \u001b[38;5;241m=\u001b[39m \u001b[38;5;28;43mself\u001b[39;49m\u001b[38;5;241;43m.\u001b[39;49m\u001b[43mrun_fn\u001b[49m\u001b[43m(\u001b[49m\u001b[38;5;241;43m*\u001b[39;49m\u001b[38;5;28;43mself\u001b[39;49m\u001b[38;5;241;43m.\u001b[39;49m\u001b[43margs\u001b[49m\u001b[43m,\u001b[49m\u001b[43m \u001b[49m\u001b[38;5;241;43m*\u001b[39;49m\u001b[38;5;241;43m*\u001b[39;49m\u001b[38;5;28;43mself\u001b[39;49m\u001b[38;5;241;43m.\u001b[39;49m\u001b[43mkwargs\u001b[49m\u001b[43m)\u001b[49m\n\u001b[1;32m    229\u001b[0m \u001b[38;5;28;01mfinally\u001b[39;00m:\n\u001b[1;32m    230\u001b[0m     \u001b[38;5;28mself\u001b[39m\u001b[38;5;241m.\u001b[39m_running \u001b[38;5;241m=\u001b[39m \u001b[38;5;28;01mFalse\u001b[39;00m\n",
      "File \u001b[0;32m~/.aiida_venvs/aiida-icon-clm/lib/python3.10/site-packages/aiida/engine/processes/workchains/workchain.py:313\u001b[0m, in \u001b[0;36mWorkChain._do_step\u001b[0;34m(self)\u001b[0m\n\u001b[1;32m    311\u001b[0m \u001b[38;5;28;01mtry\u001b[39;00m:\n\u001b[1;32m    312\u001b[0m     \u001b[38;5;28;01massert\u001b[39;00m \u001b[38;5;28mself\u001b[39m\u001b[38;5;241m.\u001b[39m_stepper \u001b[38;5;129;01mis\u001b[39;00m \u001b[38;5;129;01mnot\u001b[39;00m \u001b[38;5;28;01mNone\u001b[39;00m\n\u001b[0;32m--> 313\u001b[0m     finished, stepper_result \u001b[38;5;241m=\u001b[39m \u001b[38;5;28;43mself\u001b[39;49m\u001b[38;5;241;43m.\u001b[39;49m\u001b[43m_stepper\u001b[49m\u001b[38;5;241;43m.\u001b[39;49m\u001b[43mstep\u001b[49m\u001b[43m(\u001b[49m\u001b[43m)\u001b[49m\n\u001b[1;32m    314\u001b[0m \u001b[38;5;28;01mexcept\u001b[39;00m _PropagateReturn \u001b[38;5;28;01mas\u001b[39;00m exception:\n\u001b[1;32m    315\u001b[0m     finished, result \u001b[38;5;241m=\u001b[39m \u001b[38;5;28;01mTrue\u001b[39;00m, exception\u001b[38;5;241m.\u001b[39mexit_code\n",
      "File \u001b[0;32m~/.aiida_venvs/aiida-icon-clm/lib/python3.10/site-packages/plumpy/workchains.py:295\u001b[0m, in \u001b[0;36m_BlockStepper.step\u001b[0;34m(self)\u001b[0m\n\u001b[1;32m    292\u001b[0m \u001b[38;5;28;01mdef\u001b[39;00m \u001b[38;5;21mstep\u001b[39m(\u001b[38;5;28mself\u001b[39m) \u001b[38;5;241m-\u001b[39m\u001b[38;5;241m>\u001b[39m Tuple[\u001b[38;5;28mbool\u001b[39m, Any]:\n\u001b[1;32m    293\u001b[0m     \u001b[38;5;28;01massert\u001b[39;00m \u001b[38;5;129;01mnot\u001b[39;00m \u001b[38;5;28mself\u001b[39m\u001b[38;5;241m.\u001b[39mfinished() \u001b[38;5;129;01mand\u001b[39;00m \u001b[38;5;28mself\u001b[39m\u001b[38;5;241m.\u001b[39m_child_stepper \u001b[38;5;129;01mis\u001b[39;00m \u001b[38;5;129;01mnot\u001b[39;00m \u001b[38;5;28;01mNone\u001b[39;00m, \u001b[38;5;124m\"\u001b[39m\u001b[38;5;124mCan\u001b[39m\u001b[38;5;124m'\u001b[39m\u001b[38;5;124mt call step after the block is finished\u001b[39m\u001b[38;5;124m\"\u001b[39m\n\u001b[0;32m--> 295\u001b[0m     finished, result \u001b[38;5;241m=\u001b[39m \u001b[38;5;28;43mself\u001b[39;49m\u001b[38;5;241;43m.\u001b[39;49m\u001b[43m_child_stepper\u001b[49m\u001b[38;5;241;43m.\u001b[39;49m\u001b[43mstep\u001b[49m\u001b[43m(\u001b[49m\u001b[43m)\u001b[49m\n\u001b[1;32m    296\u001b[0m     \u001b[38;5;28;01mif\u001b[39;00m finished:\n\u001b[1;32m    297\u001b[0m         \u001b[38;5;28mself\u001b[39m\u001b[38;5;241m.\u001b[39mnext_instruction()\n",
      "File \u001b[0;32m~/.aiida_venvs/aiida-icon-clm/lib/python3.10/site-packages/plumpy/workchains.py:538\u001b[0m, in \u001b[0;36m_WhileStepper.step\u001b[0;34m(self)\u001b[0m\n\u001b[1;32m    536\u001b[0m         \u001b[38;5;28;01mreturn\u001b[39;00m \u001b[38;5;28;01mTrue\u001b[39;00m, \u001b[38;5;28;01mNone\u001b[39;00m\n\u001b[1;32m    537\u001b[0m \u001b[38;5;28;01massert\u001b[39;00m \u001b[38;5;28mself\u001b[39m\u001b[38;5;241m.\u001b[39m_child_stepper \u001b[38;5;129;01mis\u001b[39;00m \u001b[38;5;129;01mnot\u001b[39;00m \u001b[38;5;28;01mNone\u001b[39;00m\n\u001b[0;32m--> 538\u001b[0m finished, result \u001b[38;5;241m=\u001b[39m \u001b[38;5;28;43mself\u001b[39;49m\u001b[38;5;241;43m.\u001b[39;49m\u001b[43m_child_stepper\u001b[49m\u001b[38;5;241;43m.\u001b[39;49m\u001b[43mstep\u001b[49m\u001b[43m(\u001b[49m\u001b[43m)\u001b[49m\n\u001b[1;32m    539\u001b[0m \u001b[38;5;28;01mif\u001b[39;00m finished:\n\u001b[1;32m    540\u001b[0m     \u001b[38;5;28mself\u001b[39m\u001b[38;5;241m.\u001b[39m_child_stepper \u001b[38;5;241m=\u001b[39m \u001b[38;5;28;01mNone\u001b[39;00m\n",
      "File \u001b[0;32m~/.aiida_venvs/aiida-icon-clm/lib/python3.10/site-packages/plumpy/workchains.py:295\u001b[0m, in \u001b[0;36m_BlockStepper.step\u001b[0;34m(self)\u001b[0m\n\u001b[1;32m    292\u001b[0m \u001b[38;5;28;01mdef\u001b[39;00m \u001b[38;5;21mstep\u001b[39m(\u001b[38;5;28mself\u001b[39m) \u001b[38;5;241m-\u001b[39m\u001b[38;5;241m>\u001b[39m Tuple[\u001b[38;5;28mbool\u001b[39m, Any]:\n\u001b[1;32m    293\u001b[0m     \u001b[38;5;28;01massert\u001b[39;00m \u001b[38;5;129;01mnot\u001b[39;00m \u001b[38;5;28mself\u001b[39m\u001b[38;5;241m.\u001b[39mfinished() \u001b[38;5;129;01mand\u001b[39;00m \u001b[38;5;28mself\u001b[39m\u001b[38;5;241m.\u001b[39m_child_stepper \u001b[38;5;129;01mis\u001b[39;00m \u001b[38;5;129;01mnot\u001b[39;00m \u001b[38;5;28;01mNone\u001b[39;00m, \u001b[38;5;124m\"\u001b[39m\u001b[38;5;124mCan\u001b[39m\u001b[38;5;124m'\u001b[39m\u001b[38;5;124mt call step after the block is finished\u001b[39m\u001b[38;5;124m\"\u001b[39m\n\u001b[0;32m--> 295\u001b[0m     finished, result \u001b[38;5;241m=\u001b[39m \u001b[38;5;28;43mself\u001b[39;49m\u001b[38;5;241;43m.\u001b[39;49m\u001b[43m_child_stepper\u001b[49m\u001b[38;5;241;43m.\u001b[39;49m\u001b[43mstep\u001b[49m\u001b[43m(\u001b[49m\u001b[43m)\u001b[49m\n\u001b[1;32m    296\u001b[0m     \u001b[38;5;28;01mif\u001b[39;00m finished:\n\u001b[1;32m    297\u001b[0m         \u001b[38;5;28mself\u001b[39m\u001b[38;5;241m.\u001b[39mnext_instruction()\n",
      "File \u001b[0;32m~/.aiida_venvs/aiida-icon-clm/lib/python3.10/site-packages/plumpy/workchains.py:246\u001b[0m, in \u001b[0;36m_FunctionStepper.step\u001b[0;34m(self)\u001b[0m\n\u001b[1;32m    245\u001b[0m \u001b[38;5;28;01mdef\u001b[39;00m \u001b[38;5;21mstep\u001b[39m(\u001b[38;5;28mself\u001b[39m) \u001b[38;5;241m-\u001b[39m\u001b[38;5;241m>\u001b[39m Tuple[\u001b[38;5;28mbool\u001b[39m, Any]:\n\u001b[0;32m--> 246\u001b[0m     \u001b[38;5;28;01mreturn\u001b[39;00m \u001b[38;5;28;01mTrue\u001b[39;00m, \u001b[38;5;28;43mself\u001b[39;49m\u001b[38;5;241;43m.\u001b[39;49m\u001b[43m_fn\u001b[49m\u001b[43m(\u001b[49m\u001b[38;5;28;43mself\u001b[39;49m\u001b[38;5;241;43m.\u001b[39;49m\u001b[43m_workchain\u001b[49m\u001b[43m)\u001b[49m\n",
      "File \u001b[0;32m~/aiida_projects/aiida-icon-clm/git-repos/aiida-icon-clm.worktrees/exploration/src/aiida_c2sm/spice/gcm2icon/workflow.py:233\u001b[0m, in \u001b[0;36mGcm2Icon.icon\u001b[0;34m(self)\u001b[0m\n\u001b[1;32m    231\u001b[0m \u001b[38;5;28;01mif\u001b[39;00m \u001b[38;5;28mself\u001b[39m\u001b[38;5;241m.\u001b[39mctx\u001b[38;5;241m.\u001b[39miter_num \u001b[38;5;241m>\u001b[39m \u001b[38;5;241m0\u001b[39m:\n\u001b[1;32m    232\u001b[0m     prev_icon \u001b[38;5;241m=\u001b[39m \u001b[38;5;28mself\u001b[39m\u001b[38;5;241m.\u001b[39mctx\u001b[38;5;241m.\u001b[39micons[\u001b[38;5;28mself\u001b[39m\u001b[38;5;241m.\u001b[39mctx\u001b[38;5;241m.\u001b[39miter_num \u001b[38;5;241m-\u001b[39m \u001b[38;5;241m1\u001b[39m]\n\u001b[0;32m--> 233\u001b[0m     builder\u001b[38;5;241m.\u001b[39mrestart_file_dir \u001b[38;5;241m=\u001b[39m \u001b[43mprev_icon\u001b[49m\u001b[38;5;241;43m.\u001b[39;49m\u001b[43moutputs\u001b[49m\u001b[38;5;241;43m.\u001b[39;49m\u001b[43mrestart_file_dir\u001b[49m\n\u001b[1;32m    234\u001b[0m     builder\u001b[38;5;241m.\u001b[39mrestart_file_name \u001b[38;5;241m=\u001b[39m prev_icon\u001b[38;5;241m.\u001b[39moutputs\u001b[38;5;241m.\u001b[39mrestart_file_name\n\u001b[1;32m    235\u001b[0m builder\u001b[38;5;241m.\u001b[39mparameters \u001b[38;5;241m=\u001b[39m orm\u001b[38;5;241m.\u001b[39mJsonableData(\n\u001b[1;32m    236\u001b[0m     spice\u001b[38;5;241m.\u001b[39micon_wc\u001b[38;5;241m.\u001b[39mIconParams(\n\u001b[1;32m    237\u001b[0m         start_date\u001b[38;5;241m=\u001b[39m\u001b[38;5;28mself\u001b[39m\u001b[38;5;241m.\u001b[39mctx\u001b[38;5;241m.\u001b[39mparams\u001b[38;5;241m.\u001b[39mstart_date,\n\u001b[0;32m   (...)\u001b[0m\n\u001b[1;32m    257\u001b[0m     label\u001b[38;5;241m=\u001b[39m\u001b[38;5;124mf\u001b[39m\u001b[38;5;124m\"\u001b[39m\u001b[38;5;124micon:params:\u001b[39m\u001b[38;5;132;01m{\u001b[39;00m\u001b[38;5;28mself\u001b[39m\u001b[38;5;241m.\u001b[39mctx\u001b[38;5;241m.\u001b[39mexpid\u001b[38;5;132;01m}\u001b[39;00m\u001b[38;5;124m@\u001b[39m\u001b[38;5;132;01m{\u001b[39;00m\u001b[38;5;28mself\u001b[39m\u001b[38;5;241m.\u001b[39mctx\u001b[38;5;241m.\u001b[39mcurrent_date\u001b[38;5;241m.\u001b[39misoformat()\u001b[38;5;132;01m}\u001b[39;00m\u001b[38;5;124m\"\u001b[39m,\n\u001b[1;32m    258\u001b[0m )\n",
      "File \u001b[0;32m~/.aiida_venvs/aiida-icon-clm/lib/python3.10/site-packages/aiida/orm/utils/managers.py:138\u001b[0m, in \u001b[0;36mNodeLinksManager.__getattr__\u001b[0;34m(self, name)\u001b[0m\n\u001b[1;32m    133\u001b[0m \u001b[38;5;28;01mexcept\u001b[39;00m NotExistent \u001b[38;5;28;01mas\u001b[39;00m exception:\n\u001b[1;32m    134\u001b[0m     \u001b[38;5;66;03m# Note: in order for TAB-completion to work, we need to raise an exception that also inherits from\u001b[39;00m\n\u001b[1;32m    135\u001b[0m     \u001b[38;5;66;03m# `AttributeError`, so that `getattr(node.inputs, 'some_label', some_default)` returns `some_default`.\u001b[39;00m\n\u001b[1;32m    136\u001b[0m     \u001b[38;5;66;03m# Otherwise, the exception is not caught by `getattr` and is propagated, instead of returning the default.\u001b[39;00m\n\u001b[1;32m    137\u001b[0m     prefix \u001b[38;5;241m=\u001b[39m \u001b[38;5;124m'\u001b[39m\u001b[38;5;124minput\u001b[39m\u001b[38;5;124m'\u001b[39m \u001b[38;5;28;01mif\u001b[39;00m \u001b[38;5;28mself\u001b[39m\u001b[38;5;241m.\u001b[39m_incoming \u001b[38;5;28;01melse\u001b[39;00m \u001b[38;5;124m'\u001b[39m\u001b[38;5;124moutput\u001b[39m\u001b[38;5;124m'\u001b[39m\n\u001b[0;32m--> 138\u001b[0m     \u001b[38;5;28;01mraise\u001b[39;00m NotExistentAttributeError(\n\u001b[1;32m    139\u001b[0m         \u001b[38;5;124mf\u001b[39m\u001b[38;5;124m\"\u001b[39m\u001b[38;5;124mNode<\u001b[39m\u001b[38;5;132;01m{\u001b[39;00m\u001b[38;5;28mself\u001b[39m\u001b[38;5;241m.\u001b[39m_node\u001b[38;5;241m.\u001b[39mpk\u001b[38;5;132;01m}\u001b[39;00m\u001b[38;5;124m> does not have an \u001b[39m\u001b[38;5;132;01m{\u001b[39;00mprefix\u001b[38;5;132;01m}\u001b[39;00m\u001b[38;5;124m with link label \u001b[39m\u001b[38;5;124m'\u001b[39m\u001b[38;5;132;01m{\u001b[39;00mname\u001b[38;5;132;01m}\u001b[39;00m\u001b[38;5;124m'\u001b[39m\u001b[38;5;124m\"\u001b[39m\n\u001b[1;32m    140\u001b[0m     ) \u001b[38;5;28;01mfrom\u001b[39;00m \u001b[38;5;21;01mexception\u001b[39;00m\n",
      "\u001b[0;31mNotExistentAttributeError\u001b[0m: Node<34> does not have an output with link label 'restart_file_dir'"
     ]
    }
   ],
   "source": [
    "result = engine.run(builder)"
   ]
  },
  {
   "cell_type": "code",
   "execution_count": null,
   "id": "b170e678-ac20-4aaf-8552-b2317f414dd7",
   "metadata": {},
   "outputs": [],
   "source": [
    "result"
   ]
  },
  {
   "cell_type": "code",
   "execution_count": null,
   "id": "7bb8ef45-e73b-4c98-8e32-8a388bc382dd",
   "metadata": {},
   "outputs": [],
   "source": [
    "result[\"remote_folder\"].creator.pk"
   ]
  },
  {
   "cell_type": "code",
   "execution_count": null,
   "id": "76b98930-9075-4aff-930f-f7af7cf6d82e",
   "metadata": {},
   "outputs": [],
   "source": [
    "from aiida.orm import load_node\n",
    "\n",
    "gcm_data_node = load_node(\"gcm_data\")\n",
    "gcm_data_node"
   ]
  },
  {
   "cell_type": "code",
   "execution_count": null,
   "id": "e6f9d91e",
   "metadata": {},
   "outputs": [],
   "source": [
    "from aiida import orm\n",
    "\n",
    "# from aiida.engine import delete_nodes\n",
    "\n",
    "# Initialize the QueryBuilder\n",
    "qb_computer = orm.QueryBuilder()\n",
    "\n",
    "# Add Node to the query and filter by the label\n",
    "qb_computer.append(orm.Node, filters={\"label\": \"gcm_data\"}, project=[\"id\"])\n",
    "\n",
    "# Execute the query\n",
    "# node_ids = [n[0] for n in qb.all()]\n",
    "\n",
    "for node in qb_computer.all():\n",
    "    print(node[0])"
   ]
  }
 ],
 "metadata": {
  "kernelspec": {
   "display_name": "Python 3 (ipykernel)",
   "language": "python",
   "name": "python3"
  },
  "language_info": {
   "codemirror_mode": {
    "name": "ipython",
    "version": 3
   },
   "file_extension": ".py",
   "mimetype": "text/x-python",
   "name": "python",
   "nbconvert_exporter": "python",
   "pygments_lexer": "ipython3",
   "version": "3.10.12"
  }
 },
 "nbformat": 4,
 "nbformat_minor": 5
}
