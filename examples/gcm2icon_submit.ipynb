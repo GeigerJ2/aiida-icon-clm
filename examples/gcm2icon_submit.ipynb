{
 "cells": [
  {
   "cell_type": "code",
   "execution_count": 8,
   "id": "612de298-d104-41fe-a19b-03453d339edf",
   "metadata": {
    "editable": true,
    "slideshow": {
     "slide_type": ""
    },
    "tags": []
   },
   "outputs": [
    {
     "name": "stdout",
     "output_type": "stream",
     "text": [
      "The aiida extension is already loaded. To reload it, use:\n",
      "  %reload_ext aiida\n"
     ]
    },
    {
     "data": {
      "application/json": {
       "current_state": "Loaded AiiDA DB environment - profile name: aiida-icon-clm."
      },
      "text/html": [
       "<p>Loaded AiiDA DB environment - profile name: aiida-icon-clm.</p>"
      ],
      "text/latex": [
       "Loaded AiiDA DB environment - profile name: aiida-icon-clm.\n"
      ],
      "text/plain": [
       "Loaded AiiDA DB environment - profile name: aiida-icon-clm.\n"
      ]
     },
     "execution_count": 8,
     "metadata": {},
     "output_type": "execute_result"
    }
   ],
   "source": [
    "%load_ext aiida\n",
    "%aiida"
   ]
  },
  {
   "cell_type": "code",
   "execution_count": 9,
   "id": "f12658bb-8551-4f79-9a95-310d372abab9",
   "metadata": {},
   "outputs": [
    {
     "data": {
      "text/plain": [
       "Profile<uuid='6da4abb86796421db4ba41d409841450' name='aiida-icon-clm'>"
      ]
     },
     "execution_count": 9,
     "metadata": {},
     "output_type": "execute_result"
    }
   ],
   "source": [
    "import io\n",
    "import pendulum\n",
    "import pathlib\n",
    "import f90nml\n",
    "import tempfile\n",
    "from aiida import orm, engine, common\n",
    "from aiida_c2sm import spice\n",
    "from aiida import load_profile\n",
    "from aiida.orm import QueryBuilder, RemoteData\n",
    "\n",
    "load_profile(\"aiida-icon-clm\")"
   ]
  },
  {
   "cell_type": "code",
   "execution_count": 10,
   "id": "3791eeda-53ce-46e9-bb29-28f80049cfea",
   "metadata": {},
   "outputs": [],
   "source": [
    "# Why is this again defined here? Did I copy that here... -> The other file is python submission script\n",
    "def get_ecraddir() -> orm.RemoteData:\n",
    "    try:\n",
    "        params = orm.load_node(label=\"spice-ecraddir\")\n",
    "        return params\n",
    "    except common.NotExistent:\n",
    "        return orm.RemoteData(\n",
    "            label=\"spice-ecraddir\",\n",
    "            computer=orm.load_computer(\"daint-gpu\"),\n",
    "            # remote_path=\"estore/c2sm/c2sme/ICON-CLM/spice-sandbox/spice/icon-nwp-gpu/externals/ecrad/data\",\n",
    "            # -> Path was wrong\n",
    "            remote_path=\"/store/c2sm/c2sme/ICON-CLM/spice-sandbox/src/icon-nwp-gpu/externals/ecrad/data\",\n",
    "        ).store()"
   ]
  },
  {
   "cell_type": "code",
   "execution_count": 11,
   "id": "e9ca01ac-5ccf-4d5b-b4b6-3fbf44dde07e",
   "metadata": {},
   "outputs": [
    {
     "name": "stdout",
     "output_type": "stream",
     "text": [
      "{'metadata': {}, 'prep': {}, 'conv': {}, 'icon': {}, 'monitors': {}}\n"
     ]
    }
   ],
   "source": [
    "builder = spice.gcm2icon.workflow.Gcm2Icon.get_builder()\n",
    "print(builder)"
   ]
  },
  {
   "cell_type": "code",
   "execution_count": 12,
   "id": "ccb21a91-6d38-427e-ad3d-8d3e909bfc14",
   "metadata": {},
   "outputs": [],
   "source": [
    "src_dir = pathlib.Path(\"/store/c2sm/c2sme/ICON-CLM/spice-sandbox/\")\n",
    "\n",
    "builder.boundary_data = spice.data.get_inidata()\n",
    "builder.ecraddir = get_ecraddir()\n",
    "builder.gcm_data = spice.data.get_gcm_data()\n",
    "builder.ini_basedir = spice.data.get_inibasedir()\n",
    "builder.inidata = spice.data.get_inidata()\n",
    "\n",
    "builder.computer_options = {\n",
    "    \"account\": \"mrcloud\",\n",
    "    \"queue_name\": \"normal\",\n",
    "    \"custom_scheduler_commands\": \"#SBATCH -C gpu\",\n",
    "    \"max_memory_kb\": int(64e6),\n",
    "    \"resources\": {\"num_machines\": 1, \"num_mpiprocs_per_machine\": 1},\n",
    "}\n",
    "\n",
    "# builder.prep.code = orm.load_code(\"spice-conv2icon-prep\")  # -> Using script from SPICE fails...\n",
    "builder.prep.code = orm.load_code(\"aiida-conv2icon-prep\")  # -> Simpler script from `aiida-icon-clm`\n",
    "builder.prep.computer_options = {\n",
    "    \"max_wallclock_seconds\": 1800,\n",
    "}\n",
    "\n",
    "# builder.conv.code = orm.load_code(\"spice-conv2icon-conv\") # -> These are the complex scripts in Michael's `/store`\n",
    "# builder.conv.code = orm.load_code(\"spice-conv2icon-conv\") # -> Using script from SPICE fails. Makes sense, as this\n",
    "# should be converted to the Conv calcjobs\n",
    "builder.conv.code = orm.load_code(\"aiida-conv2icon-conv\")  # -> Simpler script from `aiida-icon-clm`\n",
    "builder.conv.computer_options = {\n",
    "    \"max_wallclock_seconds\": 1800,\n",
    "}\n",
    "\n",
    "builder.icon.code = orm.load_code(\"icon-gpu\")\n",
    "builder.icon.computer_options = {\n",
    "    \"max_wallclock_seconds\": 3600,\n",
    "    \"resources\": {\n",
    "        \"num_machines\": 10,\n",
    "        \"num_mpiprocs_per_machine\": 1,\n",
    "        \"num_cores_per_mpiproc\": 2,\n",
    "    },\n",
    "    \"withmpi\": True,\n",
    "    \"mpirun_extra_params\": [\n",
    "        \"--ntasks-per-node\",\n",
    "        \"1\",\n",
    "        \"--hint=nomultithread\",\n",
    "        \"--cpus-per-task\",\n",
    "        \"1\",\n",
    "    ],\n",
    "}\n",
    "\n",
    "builder.parameters = orm.JsonableData(\n",
    "    spice.params.SpiceParams(\n",
    "        start_date=pendulum.datetime(year=1979, month=1, day=1, tz=\"utc\"),\n",
    "        stop_date=pendulum.datetime(year=1979, month=3, day=1, tz=\"utc\"),\n",
    "        utils_bindir=src_dir / \"src\" / \"utils\" / \"bin\",\n",
    "        cfu_bindir=src_dir / \"src\" / \"cfu\" / \"bin\",\n",
    "        # Check if the relative paths here are fine. Full path for first file is:\n",
    "        # /store/c2sm/c2sme/ICON-CLM/spice-sandbox/data/rcm/europe044/europe044_DOM01.nc\n",
    "        # It should be fine, as:\n",
    "        # _INIBASEDIR_PATH = \"/store/c2sm/c2sme/ICON-CLM/spice-sandbox/data/rcm\"\n",
    "        lam_grid_relpath=\"europe044/europe044_DOM01.nc\",\n",
    "        parent_grid_relpath=\"europe044/europe044_DOM01.parent.nc\",\n",
    "        extpar_relpath=\"europe044/external_parameter_icon_europe044_DOM01_tiles.nc\",\n",
    "        ghg_file_relpath=\"greenhouse_gases/bc_greenhouse_rcp45_1765-2500.nc\",\n",
    "    )\n",
    ")"
   ]
  },
  {
   "cell_type": "code",
   "execution_count": 13,
   "id": "4a596fda-79bc-440b-827e-905ae923282a",
   "metadata": {},
   "outputs": [
    {
     "name": "stderr",
     "output_type": "stream",
     "text": [
      "04/30/2024 04:09:45 PM <3889418> aiida.orm.nodes.process.workflow.workchain.WorkChainNode: [REPORT] [52|Gcm2Icon|check_inputs]: Checking inputs.\n",
      "04/30/2024 04:09:45 PM <3889418> aiida.orm.nodes.process.workflow.workchain.WorkChainNode: [REPORT] [52|Gcm2Icon|init_iterations]: Initializing iteration variables.\n",
      "04/30/2024 04:09:45 PM <3889418> aiida.orm.nodes.process.workflow.workchain.WorkChainNode: [REPORT] [52|Gcm2Icon|prep]: Starting Preparation run for date 1979-01-01 00:00:00.\n"
     ]
    }
   ],
   "source": [
    "result = engine.run(builder)"
   ]
  },
  {
   "cell_type": "code",
   "execution_count": null,
   "id": "b170e678-ac20-4aaf-8552-b2317f414dd7",
   "metadata": {},
   "outputs": [],
   "source": [
    "result"
   ]
  },
  {
   "cell_type": "code",
   "execution_count": null,
   "id": "7bb8ef45-e73b-4c98-8e32-8a388bc382dd",
   "metadata": {},
   "outputs": [],
   "source": [
    "result[\"remote_folder\"].creator.pk"
   ]
  },
  {
   "cell_type": "code",
   "execution_count": null,
   "id": "76b98930-9075-4aff-930f-f7af7cf6d82e",
   "metadata": {},
   "outputs": [],
   "source": [
    "from aiida.orm import load_node\n",
    "\n",
    "gcm_data_node = load_node(\"gcm_data\")\n",
    "gcm_data_node"
   ]
  },
  {
   "cell_type": "code",
   "execution_count": null,
   "id": "e6f9d91e",
   "metadata": {},
   "outputs": [],
   "source": [
    "from aiida import orm\n",
    "\n",
    "# from aiida.engine import delete_nodes\n",
    "\n",
    "# Initialize the QueryBuilder\n",
    "qb_computer = orm.QueryBuilder()\n",
    "\n",
    "# Add Node to the query and filter by the label\n",
    "qb_computer.append(orm.Node, filters={\"label\": \"gcm_data\"}, project=[\"id\"])\n",
    "\n",
    "# Execute the query\n",
    "# node_ids = [n[0] for n in qb.all()]\n",
    "\n",
    "for node in qb_computer.all():\n",
    "    print(node[0])"
   ]
  }
 ],
 "metadata": {
  "kernelspec": {
   "display_name": "Python 3 (ipykernel)",
   "language": "python",
   "name": "python3"
  },
  "language_info": {
   "codemirror_mode": {
    "name": "ipython",
    "version": 3
   },
   "file_extension": ".py",
   "mimetype": "text/x-python",
   "name": "python",
   "nbconvert_exporter": "python",
   "pygments_lexer": "ipython3",
   "version": "3.10.12"
  }
 },
 "nbformat": 4,
 "nbformat_minor": 5
}
